{
 "cells": [
  {
   "cell_type": "markdown",
   "id": "deeff278-9f59-4c89-995d-82adecd174fa",
   "metadata": {},
   "source": [
    "STEP 1 : Data Collection"
   ]
  },
  {
   "cell_type": "code",
   "execution_count": null,
   "id": "cd52626b-1eeb-4e0c-9ed1-5a76ae790e20",
   "metadata": {},
   "outputs": [],
   "source": [
    "import pandas as pd\n",
    "data = pd.read_csv(r'C:\\Users\\Haris Ali\\Restaurant_Reviews.tsv',delimiter='\\t',encoding='utf-8')\n",
    "data.head()"
   ]
  },
  {
   "cell_type": "markdown",
   "id": "a47791e8-2bf6-4b45-9d16-1f2e011d55f5",
   "metadata": {},
   "source": [
    "Step 2 : Data Profiling"
   ]
  },
  {
   "cell_type": "code",
   "execution_count": null,
   "id": "7a0aace7-eceb-4a3f-89cc-8907c8c9f3af",
   "metadata": {},
   "outputs": [],
   "source": [
    "print(data.info())\n",
    "print(data.describe())"
   ]
  },
  {
   "cell_type": "markdown",
   "id": "fd9466fa-8cc0-408b-a7ff-b3caa0ee955c",
   "metadata": {},
   "source": [
    "Step 3  : Data Quality"
   ]
  },
  {
   "cell_type": "code",
   "execution_count": null,
   "id": "3db78a28-3db0-4ef1-88bd-43de91a1d436",
   "metadata": {},
   "outputs": [],
   "source": [
    "data_cleaned = data.drop_duplicates()\n",
    "print(data_cleaned.isnull().sum())"
   ]
  },
  {
   "cell_type": "markdown",
   "id": "3247b0bc-0e98-455f-be21-ddb022b40648",
   "metadata": {},
   "source": [
    "Step 4 : Data Selection"
   ]
  },
  {
   "cell_type": "code",
   "execution_count": null,
   "id": "ffc0ec47-b8c1-4595-a516-bd5ab9c38978",
   "metadata": {},
   "outputs": [],
   "source": [
    "X = data_cleaned['Review']\n",
    "y = data_cleaned['Liked']"
   ]
  },
  {
   "cell_type": "markdown",
   "id": "2a67a3a1-a3ac-469b-9ff3-09b217481202",
   "metadata": {},
   "source": [
    "Step 5: Exploratory Data Analysis (EDA)"
   ]
  },
  {
   "cell_type": "code",
   "execution_count": null,
   "id": "de33e779-df36-47b5-a884-fa7af4f5a333",
   "metadata": {},
   "outputs": [],
   "source": [
    "import seaborn as sns\n",
    "import matplotlib.pyplot as plt\n",
    "\n",
    "plt.figure(figsize=(8,6))\n",
    "sns.countplot(x='Liked', data = data)\n",
    "plt.title('Sentiment Analysis (Liked)')\n",
    "plt.xlabel(' Liked (1 = Positive , 0 = Negative )')\n",
    "plt.ylabel('Count')\n",
    "plt.show()"
   ]
  },
  {
   "cell_type": "markdown",
   "id": "0716d42d-b737-4c18-ba6a-52792d6697ee",
   "metadata": {},
   "source": [
    "Step 6: Selection of Features"
   ]
  },
  {
   "cell_type": "code",
   "execution_count": null,
   "id": "180fc7d3-f0d8-42d2-8706-989f6aa8ed98",
   "metadata": {},
   "outputs": [],
   "source": [
    "data = data[['Review','Liked']]\n",
    "print('\\nSelected Data (Liked & Review ):')\n",
    "print(data.head())"
   ]
  },
  {
   "cell_type": "markdown",
   "id": "461b868e-2379-4205-babd-6a36c6e1b6b8",
   "metadata": {},
   "source": [
    "Step 7: Selection of Model"
   ]
  },
  {
   "cell_type": "code",
   "execution_count": null,
   "id": "59cd14a7-4b8a-441e-998e-989eb9c135ee",
   "metadata": {},
   "outputs": [],
   "source": [
    "from sklearn.model_selection import train_test_split , GridSearchCV\n",
    "from sklearn.feature_extraction.text import TfidfVectorizer\n",
    "from sklearn.svm import SVC\n",
    "from sklearn.metrics import classification_report, accuracy_score"
   ]
  },
  {
   "cell_type": "markdown",
   "id": "8583d683-75e7-43b4-968f-01d7304d3914",
   "metadata": {},
   "source": [
    "Step 8: Model Training"
   ]
  },
  {
   "cell_type": "code",
   "execution_count": null,
   "id": "e85b1f50-8792-42fe-b9e0-a35436539606",
   "metadata": {},
   "outputs": [],
   "source": [
    "X_train,X_test , y_train , y_test = train_test_split(X,y,test_size=0.2 , random_state=42)\n",
    "\n",
    "#Tfidf Vectorization\n",
    "tfidf = TfidfVectorizer(max_features=500 , stop_words='english')\n",
    "X_train_tfidf = tfidf.fit_transform(X_train)\n",
    "X_test_tfidf =tfidf.transform(X_test)"
   ]
  },
  {
   "cell_type": "markdown",
   "id": "0f63716e-2e55-4104-8897-6e11cbfee723",
   "metadata": {},
   "source": [
    "Step 9: Model Tuning / Hyper-parameter Tuning\n"
   ]
  },
  {
   "cell_type": "code",
   "execution_count": null,
   "id": "b84305c2-ca43-4d21-84a7-ff89fc802672",
   "metadata": {},
   "outputs": [],
   "source": [
    "svm_model = SVC(kernel='linear', random_state=42)\n",
    "svm_model.fit(X_train_tfidf, y_train)\n",
    "param_grid = {\n",
    "    'C': [0.1, 1, 10, 100],  # Regularization parameter\n",
    "    'kernel': ['linear']  # Since you want a linear kernel, we keep this fixed\n",
    "}\n",
    "grid_search = GridSearchCV(svm_model , param_grid , cv=5 , scoring ='accuracy')\n",
    "grid_search.fit(X_train_tfidf, y_train)"
   ]
  },
  {
   "cell_type": "markdown",
   "id": "fde26971-4a3f-419a-9730-cb9c12cc35a4",
   "metadata": {},
   "source": [
    "Step 10 : Cross_Validation"
   ]
  },
  {
   "cell_type": "code",
   "execution_count": null,
   "id": "88f21d9d-90fd-41c3-aa9c-72af6e44f1c5",
   "metadata": {},
   "outputs": [],
   "source": [
    "best_model = grid_search.best_estimator_"
   ]
  },
  {
   "cell_type": "markdown",
   "id": "58a2f136-5022-465e-b52b-c1de184228c7",
   "metadata": {},
   "source": [
    "Step 11 : Predict on Test Class"
   ]
  },
  {
   "cell_type": "code",
   "execution_count": null,
   "id": "bdfd77b7-0daf-4836-a73c-cab615f3b4d4",
   "metadata": {},
   "outputs": [],
   "source": [
    "y_pred = svm_model.predict(X_test_tfidf)\n",
    "# Evaluate the model\n",
    "print(\"Accuracy on Test Set:\", accuracy_score(y_test, y_pred))\n",
    "print(\"\\nClassification Report:\\n\", classification_report(y_test, y_pred))"
   ]
  },
  {
   "cell_type": "markdown",
   "id": "58c95d97-d4bd-463d-8c87-b96443dbaaec",
   "metadata": {},
   "source": []
  },
  {
   "cell_type": "code",
   "execution_count": null,
   "id": "a4c5d606-e73f-4f83-a8e7-be4c0cef1738",
   "metadata": {},
   "outputs": [],
   "source": []
  },
  {
   "cell_type": "code",
   "execution_count": null,
   "id": "2aebd4f1-a74c-4cd6-a405-3899ace984c3",
   "metadata": {},
   "outputs": [],
   "source": []
  }
 ],
 "metadata": {
  "kernelspec": {
   "display_name": "Python 3 (ipykernel)",
   "language": "python",
   "name": "python3"
  },
  "language_info": {
   "codemirror_mode": {
    "name": "ipython",
    "version": 3
   },
   "file_extension": ".py",
   "mimetype": "text/x-python",
   "name": "python",
   "nbconvert_exporter": "python",
   "pygments_lexer": "ipython3",
   "version": "3.12.4"
  }
 },
 "nbformat": 4,
 "nbformat_minor": 5
}
